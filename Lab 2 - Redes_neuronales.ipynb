{
 "cells": [
  {
   "cell_type": "markdown",
   "metadata": {},
   "source": [
    "# Laboratorio No.2 Redes Neuronales"
   ]
  },
  {
   "cell_type": "markdown",
   "metadata": {},
   "source": [
    "## Andrés Urízar - 17632"
   ]
  },
  {
   "cell_type": "code",
   "execution_count": 1,
   "metadata": {},
   "outputs": [],
   "source": [
    "import mnist_reader\n",
    "import numpy as np\n",
    "from scipy import optimize as op\n",
    "from functools import reduce\n",
    "X_train, y_train = mnist_reader.load_mnist('data/fashion', kind='train')\n",
    "X_test, y_test = mnist_reader.load_mnist('data/fashion', kind='t10k')\n",
    "#data = pd.read_csv('fashion-mnist_train.csv')"
   ]
  },
  {
   "cell_type": "markdown",
   "metadata": {},
   "source": [
    "### Se procesa la información, en este caso normalizar los datos y obtener dimensiones"
   ]
  },
  {
   "cell_type": "code",
   "execution_count": 2,
   "metadata": {},
   "outputs": [],
   "source": [
    "X = X_train/1000.0  #Normalizacion de los datos\n",
    "m,n = X.shape # Para forma de las matrices\n",
    "y = y_train.reshape(m,1)\n",
    "Y = (y == np.array(range(10))).astype(int)"
   ]
  },
  {
   "cell_type": "code",
   "execution_count": 3,
   "metadata": {},
   "outputs": [
    {
     "data": {
      "text/plain": [
       "(60000, 784)"
      ]
     },
     "execution_count": 3,
     "metadata": {},
     "output_type": "execute_result"
    }
   ],
   "source": [
    "X.shape"
   ]
  },
  {
   "cell_type": "code",
   "execution_count": 12,
   "metadata": {},
   "outputs": [
    {
     "data": {
      "text/plain": [
       "(60000, 10)"
      ]
     },
     "execution_count": 12,
     "metadata": {},
     "output_type": "execute_result"
    }
   ],
   "source": [
    "Y.shape"
   ]
  },
  {
   "cell_type": "markdown",
   "metadata": {},
   "source": [
    "### Se comienzan a realizar las funciones"
   ]
  },
  {
   "cell_type": "markdown",
   "metadata": {},
   "source": [
    "#### (Se deben correr las funciones para probarlo)"
   ]
  },
  {
   "cell_type": "markdown",
   "metadata": {},
   "source": [
    "#### Lista de matrices planas"
   ]
  },
  {
   "cell_type": "code",
   "execution_count": 4,
   "metadata": {},
   "outputs": [],
   "source": [
    "flatten_list_of_arrays = lambda list_of_arrays: reduce(\n",
    "    lambda acc, v: np.array([*acc.flatten(), *v.flatten()]),\n",
    "    list_of_arrays\n",
    ")    "
   ]
  },
  {
   "cell_type": "markdown",
   "metadata": {},
   "source": [
    "#### Función para dar forma a matrices"
   ]
  },
  {
   "cell_type": "code",
   "execution_count": 5,
   "metadata": {},
   "outputs": [],
   "source": [
    "def inflate_matrixes(flat_thetas, shapes):\n",
    "    layers = len(shapes)+1\n",
    "    sizes = [shape[0]*shape[1] for shape in shapes]\n",
    "    steps = np.zeros(layers, dtype=int)\n",
    "    \n",
    "    for i in range(layers-1):\n",
    "        steps[i+1]=steps[i]+sizes[i]\n",
    "        \n",
    "    return[\n",
    "        flat_thetas[steps[i]: steps[i+1]].reshape(*shapes[i])\n",
    "        for i in range(layers-1)\n",
    "    ]"
   ]
  },
  {
   "cell_type": "markdown",
   "metadata": {},
   "source": [
    "#### Lambda de función sigmoide"
   ]
  },
  {
   "cell_type": "code",
   "execution_count": 6,
   "metadata": {},
   "outputs": [],
   "source": [
    "sigmoid = lambda z: 1.0/(1.0+np.exp(-z))"
   ]
  },
  {
   "cell_type": "markdown",
   "metadata": {},
   "source": [
    "#### Forward propagation"
   ]
  },
  {
   "cell_type": "code",
   "execution_count": 8,
   "metadata": {},
   "outputs": [],
   "source": [
    "#Forward propagation (lista de thetas, X=matrix(60000,784)) se realiza paso 2.1 y 2.2\n",
    "def feed_propagation(thetas, X):\n",
    "    a = [X] #Se guarda en la primera posicion el input en este caso X (paso 2.1)\n",
    "    for i in range(len(thetas)): #Paso 2.2 para obtencion de matrices de activacion\n",
    "        a.append(\n",
    "            sigmoid(\n",
    "                np.matmul(\n",
    "                    np.hstack((np.ones(len(X)).reshape(len(X),1),a[i])),\n",
    "                    thetas[i].T\n",
    "                )\n",
    "            )\n",
    "        )\n",
    "    return a"
   ]
  },
  {
   "cell_type": "markdown",
   "metadata": {},
   "source": [
    "#### Back propagation"
   ]
  },
  {
   "cell_type": "code",
   "execution_count": 9,
   "metadata": {},
   "outputs": [],
   "source": [
    "#Back propagation, se realizan pasos 2.3 y 2.4\n",
    "def back_propagation(activate,lay,result,theta):\n",
    "    deltas = [*range(lay-1), activate[-1]-result] #2.3 se calcula el error de la ultima capa y se almacena\n",
    "    #2.4 se realiza el ciclo desde la penultima capa hasta la capa antes del inicio\n",
    "    for i in range(lay-2,0,-1):\n",
    "        #print(((np.delete(theta[i],0,1)).T).shape)\n",
    "        #print(deltas[i+1].shape)\n",
    "        #print((activate[i]*(1-activate[i])).shape)\n",
    "        #deltas[i] = np.matmul((np.delete(theta[i],0,1)).T, deltas[i+1])*(activate[i]*(1-activate[i])) v.1.0\n",
    "        deltas[i] = np.matmul(deltas[i+1],(np.delete(theta[i],0,1)))*(activate[i]*(1-activate[i])) #v2.0\n",
    "    return deltas"
   ]
  },
  {
   "cell_type": "code",
   "execution_count": 10,
   "metadata": {},
   "outputs": [],
   "source": [
    "#Se declaran las Deltas mayuscular con la forma de las Thetas, se hace paso 1\n",
    "def deltaDeclaration(shape):\n",
    "    delta = []\n",
    "    for sh in shape:\n",
    "        temp = np.zeros(sh, dtype=int)\n",
    "        delta.append(temp)\n",
    "    return delta"
   ]
  },
  {
   "cell_type": "code",
   "execution_count": 11,
   "metadata": {},
   "outputs": [],
   "source": [
    "#Funcion de costo\n",
    "def cost_function(flat_thetas, shapes, X, Y):\n",
    "    activation_array = feed_propagation(\n",
    "        inflate_matrixes(flat_thetas, shapes),\n",
    "        X\n",
    "    )\n",
    "\n",
    "    return -(Y * np.log(activation_array[-1]) + (1 - Y) * np.log(1 - activation_array[-1])).sum() / len(X) "
   ]
  },
  {
   "cell_type": "markdown",
   "metadata": {},
   "source": [
    "#### Método para calculo de toda la predicción"
   ]
  },
  {
   "cell_type": "code",
   "execution_count": 12,
   "metadata": {},
   "outputs": [],
   "source": [
    "def prediction_calculation(flat_thetas, shapes, X, Y):\n",
    "    #Delta = deltaDeclaration(shapes)\n",
    "        Deltaslist = [] #Paso 1\n",
    "        m, layers = len(X), len(shapes)+1\n",
    "        thetas = inflate_matrixes(flat_thetas,shapes)\n",
    "        activation_array = feed_propagation(thetas,X) #Paso 2.2\n",
    "        #deltas = back_propagation(activation_array,layers,Y,thetas)\n",
    "        \n",
    "        \n",
    "        deltas = [*range(layers-1), activation_array[-1]-Y] #2.3\n",
    "    #2.4 se realiza el ciclo desde la penultima capa hasta la capa antes del inicio\n",
    "        for i in range(layers-2,0,-1):\n",
    "            deltas[i] = np.matmul(deltas[i+1],(np.delete(thetas[i],0,1)))*(activation_array[i]*(1-activation_array[i]))\n",
    "            \n",
    "        #2.5 v1.0\n",
    "#         for i in range(layers-1):\n",
    "#             a,b = thetas[i].shape\n",
    "#             Delta = np.zeros(a*b).reshape(a,b)\n",
    "#             x, _ = activation_array[i].shape\n",
    "#             for j in range(x):\n",
    "#                 Delta = Delta + np.matmul(((deltas[i+1][j]).reshape(len(deltas[i + 1][j]),1)),\n",
    "#                 ((np.append([1],activation_array[i][j])).reshape(len(activation_array[i][j])+1,1)).T)\n",
    "            \n",
    "#             Deltas.append(Delta)\n",
    "        \n",
    "#         Deltas = np.asarray(Deltas)\n",
    "\n",
    "#         return flatten_list_of_arrays([\n",
    "#             np.true_divide(d,m)\n",
    "#             for d in Deltas\n",
    "#         ])\n",
    "        # Paso 2.5 v2.0\n",
    "        for i in range(layers-1):\n",
    "            Deltaslist.append(\n",
    "                (\n",
    "                    np.matmul(\n",
    "                        deltas[i+1].T,\n",
    "                        np.hstack((\n",
    "                            np.ones(len(activation_array[i])).reshape(len(activation_array[i]),1),\n",
    "                            activation_array[i])))\n",
    "                )/m #Paso 3\n",
    "            )\n",
    "        Deltaslist = np.asarray(Deltaslist)\n",
    "        \n",
    "        return flatten_list_of_arrays(Deltaslist)"
   ]
  },
  {
   "cell_type": "markdown",
   "metadata": {},
   "source": [
    "### Se realiza la arquitectura de las matrices de la red neuronal"
   ]
  },
  {
   "cell_type": "code",
   "execution_count": 13,
   "metadata": {},
   "outputs": [],
   "source": [
    "REDES = np.array([\n",
    "        n,\n",
    "        125,\n",
    "        10\n",
    "    ])\n",
    "# una sola capa de 125 neuronas\n",
    "theta_shapes = np.hstack((\n",
    "    REDES[1:].reshape(len(REDES)-1, 1),\n",
    "    (REDES[:-1]+1).reshape(len(REDES)-1,1)\n",
    "))\n",
    "\n",
    "\n",
    "flat_thetas = flatten_list_of_arrays([\n",
    "    np.random.rand(*theta_shape)*0.01 \n",
    "    for theta_shape in theta_shapes\n",
    "])"
   ]
  },
  {
   "cell_type": "markdown",
   "metadata": {},
   "source": [
    "## Ya no corre el siguiente método porque es el que realiza el cálculo de thetas"
   ]
  },
  {
   "cell_type": "markdown",
   "metadata": {},
   "source": [
    "### Desarrollo de red neuronal"
   ]
  },
  {
   "cell_type": "code",
   "execution_count": 86,
   "metadata": {},
   "outputs": [
    {
     "name": "stdout",
     "output_type": "stream",
     "text": [
      "\n",
      "---------------- OPTIMIZING ----------------\n",
      "\n"
     ]
    },
    {
     "name": "stderr",
     "output_type": "stream",
     "text": [
      "<ipython-input-82-f3f1e6bf45b6>:8: RuntimeWarning: divide by zero encountered in log\n",
      "  return -(Y * np.log(activation_array[-1]) + (1 - Y) * np.log(1 - activation_array[-1])).sum() / len(X)\n",
      "<ipython-input-82-f3f1e6bf45b6>:8: RuntimeWarning: invalid value encountered in multiply\n",
      "  return -(Y * np.log(activation_array[-1]) + (1 - Y) * np.log(1 - activation_array[-1])).sum() / len(X)\n"
     ]
    },
    {
     "name": "stdout",
     "output_type": "stream",
     "text": [
      "\n",
      "---------------- OPTIMIZED ----------------\n",
      "\n"
     ]
    }
   ],
   "source": [
    "print(\"\\n---------------- OPTIMIZING ----------------\\n\")\n",
    "result = op.minimize(\n",
    "    fun = cost_function,\n",
    "    x0 = flat_thetas,\n",
    "    args = (theta_shapes, X, Y),\n",
    "    method = 'L-BFGS-B',\n",
    "    jac = prediction_calculation,\n",
    "    options = {'disp': True, 'maxiter': 3000}\n",
    ")\n",
    "print(\"\\n---------------- OPTIMIZED ----------------\\n\")\n"
   ]
  },
  {
   "cell_type": "code",
   "execution_count": 161,
   "metadata": {},
   "outputs": [],
   "source": [
    "# Se guarda el resultado de thetas optimizadas\n",
    "np.savetxt('thetas_optimized3.txt', result.x,delimiter=',')"
   ]
  },
  {
   "cell_type": "code",
   "execution_count": 160,
   "metadata": {},
   "outputs": [
    {
     "data": {
      "text/plain": [
       "99385"
      ]
     },
     "execution_count": 160,
     "metadata": {},
     "output_type": "execute_result"
    }
   ],
   "source": [
    "result.x.size"
   ]
  },
  {
   "cell_type": "markdown",
   "metadata": {},
   "source": [
    "#### Muestra de los resultados"
   ]
  },
  {
   "cell_type": "code",
   "execution_count": 144,
   "metadata": {},
   "outputs": [
    {
     "data": {
      "text/plain": [
       "      fun: nan\n",
       " hess_inv: <99385x99385 LbfgsInvHessProduct with dtype=float64>\n",
       "      jac: array([-1.31761763e-08,  3.86480649e-15,  2.96099077e-15, ...,\n",
       "       -1.00984083e-15,  1.93395179e-07, -5.79911462e-08])\n",
       "  message: b'CONVERGENCE: NORM_OF_PROJECTED_GRADIENT_<=_PGTOL'\n",
       "     nfev: 12103\n",
       "      nit: 1687\n",
       "   status: 0\n",
       "  success: True\n",
       "        x: array([-3.80816181e-01,  4.05849884e-03,  8.14810819e-03, ...,\n",
       "        1.37269472e+00, -1.84523917e+01,  3.31388030e-01])"
      ]
     },
     "execution_count": 144,
     "metadata": {},
     "output_type": "execute_result"
    }
   ],
   "source": [
    "result"
   ]
  },
  {
   "cell_type": "markdown",
   "metadata": {},
   "source": [
    "## Test de thetas"
   ]
  },
  {
   "cell_type": "code",
   "execution_count": 14,
   "metadata": {},
   "outputs": [
    {
     "data": {
      "text/plain": [
       "99385"
      ]
     },
     "execution_count": 14,
     "metadata": {},
     "output_type": "execute_result"
    }
   ],
   "source": [
    "thetaResult = np.loadtxt('thetas_optimized3.txt') # se carga la theta de un txt\n",
    "thetaResult.size"
   ]
  },
  {
   "cell_type": "markdown",
   "metadata": {},
   "source": [
    "#### Normalización de datos de prueba"
   ]
  },
  {
   "cell_type": "code",
   "execution_count": 15,
   "metadata": {},
   "outputs": [],
   "source": [
    "X_test = X_test/1000\n",
    "mT,nT = X_test.shape\n",
    "y_test = y_test.reshape(mT,1)"
   ]
  },
  {
   "cell_type": "code",
   "execution_count": 16,
   "metadata": {},
   "outputs": [],
   "source": [
    "flat_thetas_result = thetaResult"
   ]
  },
  {
   "cell_type": "code",
   "execution_count": 21,
   "metadata": {},
   "outputs": [],
   "source": [
    "inflate_thetas_result = inflate_matrixes(flat_thetas_result, theta_shapes)\n",
    "a_result = feed_propagation(inflate_thetas_result, X_test)"
   ]
  },
  {
   "cell_type": "code",
   "execution_count": 27,
   "metadata": {},
   "outputs": [
    {
     "name": "stdout",
     "output_type": "stream",
     "text": [
      "Porcentaje de éxito:  86.71\n",
      "Porcentaje de fallo:  13.290000000000006\n"
     ]
    }
   ],
   "source": [
    "maximos = np.argmax(a_result[-1], axis = 1)\n",
    "accuracy = 0\n",
    "for i in range(len(a_result[-1])):\n",
    "    if(maximos[i] == y_test[i][0]):\n",
    "        accuracy += 1\n",
    "success = accuracy*100/len(a_result[-1])\n",
    "failure = 100.0 - success\n",
    "print(\"Porcentaje de éxito: \", success)\n",
    "print(\"Porcentaje de fallo: \", failure)"
   ]
  },
  {
   "cell_type": "markdown",
   "metadata": {},
   "source": [
    "## Análisis sobre hallazgos"
   ]
  },
  {
   "cell_type": "markdown",
   "metadata": {},
   "source": [
    "El modelo ha obtenido un valor de 86.71% de éxito, lo cuál indica que fue un valor muy elevado. Solamente se utilizó una capa oculta, y en ella habian 125 neuronas. No se utilizó otra capa, debido que se nos fue mencionado que no habría que agregar tanta complejidad al modelo por lo cuál decidi dejarlo solamente en una capa, y tampoco hay overfitting.\n",
    "Por resultados en la sección Visualización de imágenes, se vio que es un éxito al demostrar al atinarle a las diferentes imágenes.\n",
    "Quizá el resultado del porcentaje de la predicción hubiera mejorado si hubiera puesto más neuronas en la capa oculta, quizá hubiera causada un efecto positivo, pero por lo mismo que no queria complicar el modelo, se quedo en 125."
   ]
  },
  {
   "cell_type": "markdown",
   "metadata": {},
   "source": [
    "## Visualización de imágenes"
   ]
  },
  {
   "cell_type": "code",
   "execution_count": 34,
   "metadata": {},
   "outputs": [],
   "source": [
    "from PIL import Image\n",
    "import matplotlib.pyplot as plt\n",
    "import matplotlib.image as mpimg\n",
    "import random"
   ]
  },
  {
   "cell_type": "code",
   "execution_count": 40,
   "metadata": {},
   "outputs": [],
   "source": [
    "X_test, y_test = mnist_reader.load_mnist('data/fashion', kind='t10k')\n",
    "y_test = np.asarray(y_test).reshape(X_test.shape[0], 1)"
   ]
  },
  {
   "cell_type": "code",
   "execution_count": 38,
   "metadata": {},
   "outputs": [],
   "source": [
    "mnist = {\n",
    "    0: 'T-shirt/top',\n",
    "    1: 'Trouser',\n",
    "    2: 'Pullover',\n",
    "    3: 'Dress',\n",
    "    4: 'Coat',\n",
    "    5: 'Sandal',\n",
    "    6: 'Shirt',\n",
    "    7: 'Sneaker',\n",
    "    8: 'Bag',\n",
    "    9: 'Ankle boot'\n",
    "}"
   ]
  },
  {
   "cell_type": "code",
   "execution_count": 41,
   "metadata": {},
   "outputs": [
    {
     "data": {
      "image/png": "[encoded data removed]",
      "text/plain": [
       "<Figure size 432x288 with 1 Axes>"
      ]
     },
     "metadata": {
      "needs_background": "light"
     },
     "output_type": "display_data"
    },
    {
     "name": "stdout",
     "output_type": "stream",
     "text": [
      "Predicho: Pullover\n",
      "Real: Pullover\n",
      "\n",
      "1. Mostrar siguiente imagen\n",
      "2. Salir.\n",
      "1\n"
     ]
    },
    {
     "data": {
      "image/png": "[encoded data removed]",
      "text/plain": [
       "<Figure size 432x288 with 1 Axes>"
      ]
     },
     "metadata": {
      "needs_background": "light"
     },
     "output_type": "display_data"
    },
    {
     "name": "stdout",
     "output_type": "stream",
     "text": [
      "Predicho: Trouser\n",
      "Real: Trouser\n",
      "\n",
      "1. Mostrar siguiente imagen\n",
      "2. Salir.\n",
      "1\n"
     ]
    },
    {
     "data": {
      "image/png": "[encoded data removed]",
      "text/plain": [
       "<Figure size 432x288 with 1 Axes>"
      ]
     },
     "metadata": {
      "needs_background": "light"
     },
     "output_type": "display_data"
    },
    {
     "name": "stdout",
     "output_type": "stream",
     "text": [
      "Predicho: Pullover\n",
      "Real: Pullover\n",
      "\n",
      "1. Mostrar siguiente imagen\n",
      "2. Salir.\n",
      "2\n"
     ]
    }
   ],
   "source": [
    "op = 0\n",
    "nums = []\n",
    "\n",
    "# and cont < len(a[-1])\n",
    "\n",
    "while op != \"2\":\n",
    "    num = random.randint(0, len(a[-1]))\n",
    "    while num in nums:\n",
    "        nums.append(num)\n",
    "        \n",
    "    #pixels = listToMatrix(x_test.values[num], 28)\n",
    "    pixels = np.asarray([(x,x,x) for x in X_test[num]]).reshape(28,28,3)\n",
    "    # Convert the pixels into an array using numpy\n",
    "    array = np.array(pixels, dtype=np.uint8)\n",
    "\n",
    "    # Use PIL to create an image from the new array of pixels\n",
    "    new_image = Image.fromarray(array)\n",
    "    new_image.save('test.png')\n",
    "    \n",
    "    img = mpimg.imread('test.png')\n",
    "    imgplot = plt.imshow(img)\n",
    "    \n",
    "    plt.show()\n",
    "    print(\"Predicho: \" + mnist[maximos[num]])\n",
    "    print(\"Real: \" + mnist[y_test[num][0]])\n",
    "    \n",
    "#     cont += 1\n",
    "    \n",
    "    op = input(\"\\n1. Mostrar siguiente imagen\\n2. Salir.\\n\")"
   ]
  }
 ],
 "metadata": {
  "kernelspec": {
   "display_name": "Python 3",
   "language": "python",
   "name": "python3"
  },
  "language_info": {
   "codemirror_mode": {
    "name": "ipython",
    "version": 3
   },
   "file_extension": ".py",
   "mimetype": "text/x-python",
   "name": "python",
   "nbconvert_exporter": "python",
   "pygments_lexer": "ipython3",
   "version": "3.8.2"
  }
 },
 "nbformat": 4,
 "nbformat_minor": 4
}
