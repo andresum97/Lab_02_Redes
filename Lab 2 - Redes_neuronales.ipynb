{
 "cells": [
  {
   "cell_type": "markdown",
   "metadata": {},
   "source": [
    "# Laboratorio No.2 Redes Neuronales"
   ]
  },
  {
   "cell_type": "markdown",
   "metadata": {},
   "source": [
    "## Andrés Urízar - 17632"
   ]
  },
  {
   "cell_type": "code",
   "execution_count": 1,
   "metadata": {},
   "outputs": [],
   "source": [
    "import mnist_reader\n",
    "import numpy as np\n",
    "from scipy import optimize as op\n",
    "from functools import reduce\n",
    "X_train, y_train = mnist_reader.load_mnist('data/fashion', kind='train')\n",
    "X_test, y_test = mnist_reader.load_mnist('data/fashion', kind='t10k')\n",
    "#data = pd.read_csv('fashion-mnist_train.csv')"
   ]
  },
  {
   "cell_type": "markdown",
   "metadata": {},
   "source": [
    "### Se procesa la información"
   ]
  },
  {
   "cell_type": "code",
   "execution_count": 10,
   "metadata": {},
   "outputs": [],
   "source": [
    "X = X_train/1000.0  #Normalizacion de los datos\n",
    "m,n = X.shape\n",
    "y = y_train.reshape(m,1)\n",
    "Y = (y == np.array(range(10))).astype(int)"
   ]
  },
  {
   "cell_type": "code",
   "execution_count": 11,
   "metadata": {},
   "outputs": [
    {
     "data": {
      "text/plain": [
       "(60000, 784)"
      ]
     },
     "execution_count": 11,
     "metadata": {},
     "output_type": "execute_result"
    }
   ],
   "source": [
    "X.shape"
   ]
  },
  {
   "cell_type": "code",
   "execution_count": 12,
   "metadata": {},
   "outputs": [
    {
     "data": {
      "text/plain": [
       "(60000, 10)"
      ]
     },
     "execution_count": 12,
     "metadata": {},
     "output_type": "execute_result"
    }
   ],
   "source": [
    "Y.shape"
   ]
  },
  {
   "cell_type": "markdown",
   "metadata": {},
   "source": [
    "### Se comienzan a realizar las funciones"
   ]
  },
  {
   "cell_type": "markdown",
   "metadata": {},
   "source": [
    "#### (Se deben correr las funciones para probarlo)"
   ]
  },
  {
   "cell_type": "markdown",
   "metadata": {},
   "source": [
    "#### Función para dar forma a las matrices"
   ]
  },
  {
   "cell_type": "code",
   "execution_count": 6,
   "metadata": {},
   "outputs": [],
   "source": [
    "flatten_list_of_arrays = lambda list_of_arrays: reduce(\n",
    "    lambda acc, v: np.array([*acc.flatten(), *v.flatten()]),\n",
    "    list_of_arrays\n",
    ")    "
   ]
  },
  {
   "cell_type": "code",
   "execution_count": 7,
   "metadata": {},
   "outputs": [],
   "source": [
    "def inflate_matrixes(flat_thetas, shapes):\n",
    "    layers = len(shapes)+1\n",
    "    sizes = [shape[0]*shape[1] for shape in shapes]\n",
    "    steps = np.zeros(layers, dtype=int)\n",
    "    \n",
    "    for i in range(layers-1):\n",
    "        steps[i+1]=steps[i]+sizes[i]\n",
    "        \n",
    "    return[\n",
    "        flat_thetas[steps[i]: steps[i+1]].reshape(*shapes[i])\n",
    "        for i in range(layers-1)\n",
    "    ]"
   ]
  },
  {
   "cell_type": "code",
   "execution_count": 8,
   "metadata": {},
   "outputs": [],
   "source": [
    "sigmoid = lambda z: 1.0/(1.0+np.exp(-z))"
   ]
  },
  {
   "cell_type": "code",
   "execution_count": 15,
   "metadata": {},
   "outputs": [],
   "source": [
    "#Forward propagation (lista de thetas, X=matrix(60000,784)) se realiza paso 2.1 y 2.2\n",
    "def feed_propagation(thetas, X):\n",
    "    a = [X] #Se guarda en la primera posicion el input en este caso X (paso 2.1)\n",
    "    for i in range(len(thetas)): #Paso 2.2 para obtencion de matrices de activacion\n",
    "        a.append(\n",
    "            sigmoid(\n",
    "                np.matmul(\n",
    "                    np.hstack((np.ones(len(X)).reshape(len(X),1),a[i])),\n",
    "                    thetas[i].T\n",
    "                )\n",
    "            )\n",
    "        )\n",
    "    return a"
   ]
  },
  {
   "cell_type": "code",
   "execution_count": 16,
   "metadata": {},
   "outputs": [],
   "source": [
    "#Back propagation, se realizan pasos 2.3 y 2.4\n",
    "def back_propagation(activate,lay,result,theta):\n",
    "    deltas = [*range(lay-1), activate[-1]-result] #2.3 se calcula el error de la ultima capa y se almacena\n",
    "    #2.4 se realiza el ciclo desde la penultima capa hasta la capa antes del inicio\n",
    "    for i in range(lay-2,0,-1):\n",
    "        #print(((np.delete(theta[i],0,1)).T).shape)\n",
    "        #print(deltas[i+1].shape)\n",
    "        #print((activate[i]*(1-activate[i])).shape)\n",
    "        #deltas[i] = np.matmul((np.delete(theta[i],0,1)).T, deltas[i+1])*(activate[i]*(1-activate[i])) v.1.0\n",
    "        deltas[i] = np.matmul(deltas[i+1],(np.delete(theta[i],0,1)))*(activate[i]*(1-activate[i])) #v2.0\n",
    "    return deltas"
   ]
  },
  {
   "cell_type": "code",
   "execution_count": 17,
   "metadata": {},
   "outputs": [],
   "source": [
    "#Se declaran las Deltas mayuscular con la forma de las Thetas, se hace paso 1\n",
    "def deltaDeclaration(shape):\n",
    "    delta = []\n",
    "    for sh in shape:\n",
    "        temp = np.zeros(sh, dtype=int)\n",
    "        delta.append(temp)\n",
    "    return delta"
   ]
  },
  {
   "cell_type": "code",
   "execution_count": 18,
   "metadata": {},
   "outputs": [],
   "source": [
    "#Funcion de costo\n",
    "def cost_function(flat_thetas, shapes, X, Y):\n",
    "    activation_array = feed_propagation(\n",
    "        inflate_matrixes(flat_thetas, shapes),\n",
    "        X\n",
    "    )\n",
    "\n",
    "    return -(Y * np.log(activation_array[-1]) + (1 - Y) * np.log(1 - activation_array[-1])).sum() / len(X) "
   ]
  },
  {
   "cell_type": "code",
   "execution_count": 13,
   "metadata": {},
   "outputs": [],
   "source": [
    "#Calculo de predicion que no funcionaaaaaaaaa\n",
    "# def prediction_calculation(flat_thetas, shapes, X, Y):\n",
    "#     #Delta = deltaDeclaration(shapes)\n",
    "#     Delta = []\n",
    "#     m, layers = len(X), len(theta_shapes)+1\n",
    "#     thetas = inflate_matrixes(flat_thetas,theta_shapes)\n",
    "#     activation_array = feed_propagation(flat_thetas,shapes)\n",
    "#     deltas = back_propagation(activation_array,layers,Y,thetas)\n",
    "#     #2.5\n",
    "#     for i in range(layers-1):\n",
    "#         Delta.append(\n",
    "#             (deltas[i+1].T @ np.hstack((np.ones(len(activation_array[i]),1),activation_array[i])))/m\n",
    "#         )\n",
    "#         #Delta[i] = Delta[i] + np.matmul(deltas[i+1],(np.vstack((np.ones(len(X[0])).reshape(1,len(X[0])), activation_array[i]))).T)"
   ]
  },
  {
   "cell_type": "code",
   "execution_count": 84,
   "metadata": {},
   "outputs": [],
   "source": [
    "def prediction_calculation(flat_thetas, shapes, X, Y):\n",
    "    #Delta = deltaDeclaration(shapes)\n",
    "        Deltaslist = []\n",
    "        m, layers = len(X), len(shapes)+1\n",
    "        thetas = inflate_matrixes(flat_thetas,shapes)\n",
    "        activation_array = feed_propagation(thetas,X)\n",
    "        #deltas = back_propagation(activation_array,layers,Y,thetas)\n",
    "        \n",
    "        \n",
    "        deltas = [*range(layers-1), activation_array[-1]-Y] #2.3\n",
    "    #2.4 se realiza el ciclo desde la penultima capa hasta la capa antes del inicio\n",
    "        for i in range(layers-2,0,-1):\n",
    "            deltas[i] = np.matmul(deltas[i+1],(np.delete(thetas[i],0,1)))*(activation_array[i]*(1-activation_array[i]))\n",
    "            \n",
    "        #2.5 v1.0\n",
    "#         for i in range(layers-1):\n",
    "#             a,b = thetas[i].shape\n",
    "#             Delta = np.zeros(a*b).reshape(a,b)\n",
    "#             x, _ = activation_array[i].shape\n",
    "#             for j in range(x):\n",
    "#                 Delta = Delta + np.matmul(((deltas[i+1][j]).reshape(len(deltas[i + 1][j]),1)),\n",
    "#                 ((np.append([1],activation_array[i][j])).reshape(len(activation_array[i][j])+1,1)).T)\n",
    "            \n",
    "#             Deltas.append(Delta)\n",
    "        \n",
    "#         Deltas = np.asarray(Deltas)\n",
    "\n",
    "#         return flatten_list_of_arrays([\n",
    "#             np.true_divide(d,m)\n",
    "#             for d in Deltas\n",
    "#         ])\n",
    "        # 2.5 v2.0\n",
    "        for i in range(layers-1):\n",
    "            Deltaslist.append(\n",
    "                (\n",
    "                    np.matmul(\n",
    "                        deltas[i+1].T,\n",
    "                        np.hstack((\n",
    "                            np.ones(len(activation_array[i])).reshape(len(activation_array[i]),1),\n",
    "                            activation_array[i])))\n",
    "                )/m\n",
    "            )\n",
    "        Deltaslist = np.asarray(Deltaslist)\n",
    "        \n",
    "        return flatten_list_of_arrays(Deltaslist)"
   ]
  },
  {
   "cell_type": "markdown",
   "metadata": {},
   "source": [
    "### Se realiza la arquitectura de las matrices de la red neuronal"
   ]
  },
  {
   "cell_type": "code",
   "execution_count": 13,
   "metadata": {},
   "outputs": [],
   "source": [
    "REDES = np.array([\n",
    "        n,\n",
    "        125,\n",
    "        10\n",
    "    ])\n",
    "# una sola capa de 125 neuronas\n",
    "theta_shapes = np.hstack((\n",
    "    REDES[1:].reshape(len(REDES)-1, 1),\n",
    "    (REDES[:-1]+1).reshape(len(REDES)-1,1)\n",
    "))\n",
    "\n",
    "\n",
    "flat_thetas = flatten_list_of_arrays([\n",
    "    np.random.rand(*theta_shape)*0.01 \n",
    "    for theta_shape in theta_shapes\n",
    "])"
   ]
  },
  {
   "cell_type": "markdown",
   "metadata": {},
   "source": [
    "### Desarrollo de red neuronal"
   ]
  },
  {
   "cell_type": "code",
   "execution_count": 86,
   "metadata": {},
   "outputs": [
    {
     "name": "stdout",
     "output_type": "stream",
     "text": [
      "\n",
      "---------------- OPTIMIZING ----------------\n",
      "\n"
     ]
    },
    {
     "name": "stderr",
     "output_type": "stream",
     "text": [
      "<ipython-input-82-f3f1e6bf45b6>:8: RuntimeWarning: divide by zero encountered in log\n",
      "  return -(Y * np.log(activation_array[-1]) + (1 - Y) * np.log(1 - activation_array[-1])).sum() / len(X)\n",
      "<ipython-input-82-f3f1e6bf45b6>:8: RuntimeWarning: invalid value encountered in multiply\n",
      "  return -(Y * np.log(activation_array[-1]) + (1 - Y) * np.log(1 - activation_array[-1])).sum() / len(X)\n"
     ]
    },
    {
     "name": "stdout",
     "output_type": "stream",
     "text": [
      "\n",
      "---------------- OPTIMIZED ----------------\n",
      "\n"
     ]
    }
   ],
   "source": [
    "print(\"\\n---------------- OPTIMIZING ----------------\\n\")\n",
    "result = op.minimize(\n",
    "    fun = cost_function,\n",
    "    x0 = flat_thetas,\n",
    "    args = (theta_shapes, X, Y),\n",
    "    method = 'L-BFGS-B',\n",
    "    jac = prediction_calculation,\n",
    "    options = {'disp': True, 'maxiter': 3000}\n",
    ")\n",
    "print(\"\\n---------------- OPTIMIZED ----------------\\n\")\n"
   ]
  },
  {
   "cell_type": "code",
   "execution_count": 161,
   "metadata": {},
   "outputs": [],
   "source": [
    "# Se guarda el resultado de thetas optimizadas\n",
    "np.savetxt('thetas_optimized3.txt', result.x,delimiter=',')"
   ]
  },
  {
   "cell_type": "code",
   "execution_count": 160,
   "metadata": {},
   "outputs": [
    {
     "data": {
      "text/plain": [
       "99385"
      ]
     },
     "execution_count": 160,
     "metadata": {},
     "output_type": "execute_result"
    }
   ],
   "source": [
    "result.x.size"
   ]
  },
  {
   "cell_type": "code",
   "execution_count": 144,
   "metadata": {},
   "outputs": [
    {
     "data": {
      "text/plain": [
       "      fun: nan\n",
       " hess_inv: <99385x99385 LbfgsInvHessProduct with dtype=float64>\n",
       "      jac: array([-1.31761763e-08,  3.86480649e-15,  2.96099077e-15, ...,\n",
       "       -1.00984083e-15,  1.93395179e-07, -5.79911462e-08])\n",
       "  message: b'CONVERGENCE: NORM_OF_PROJECTED_GRADIENT_<=_PGTOL'\n",
       "     nfev: 12103\n",
       "      nit: 1687\n",
       "   status: 0\n",
       "  success: True\n",
       "        x: array([-3.80816181e-01,  4.05849884e-03,  8.14810819e-03, ...,\n",
       "        1.37269472e+00, -1.84523917e+01,  3.31388030e-01])"
      ]
     },
     "execution_count": 144,
     "metadata": {},
     "output_type": "execute_result"
    }
   ],
   "source": [
    "result"
   ]
  },
  {
   "cell_type": "code",
   "execution_count": 30,
   "metadata": {},
   "outputs": [
    {
     "data": {
      "text/plain": [
       "99385"
      ]
     },
     "execution_count": 30,
     "metadata": {},
     "output_type": "execute_result"
    }
   ],
   "source": [
    "thetaResult = np.loadtxt('thetas_optimized3.txt') # se carga la theta de un txt\n",
    "thetaResult.size"
   ]
  },
  {
   "cell_type": "markdown",
   "metadata": {},
   "source": [
    "### Test de thetas"
   ]
  },
  {
   "cell_type": "code",
   "execution_count": 31,
   "metadata": {},
   "outputs": [],
   "source": [
    "X_test = X_test/1000\n",
    "mT,nT = X_test.shape\n",
    "y_test = y_test.reshape(mT,1)"
   ]
  },
  {
   "cell_type": "code",
   "execution_count": 32,
   "metadata": {},
   "outputs": [],
   "source": [
    "flat_thetas_result = thetaResult"
   ]
  },
  {
   "cell_type": "code",
   "execution_count": 33,
   "metadata": {},
   "outputs": [],
   "source": [
    "inflate_thetas_result = inflate_matrixes(flat_thetas_result, theta_shapes)\n",
    "a = feed_propagation(inflate_thetas_result, X_test)"
   ]
  },
  {
   "cell_type": "code",
   "execution_count": 34,
   "metadata": {},
   "outputs": [],
   "source": [
    "# Se obtienen la nuerona maxima de cada dato de test para obtener la prediccioni\n",
    "maximos = np.argmax(a[-1], axis = 1).reshape(mT,1)\n",
    "# Se compara con los resultados verdaderos\n",
    "correct = ((maximos == y_test)*1).sum()\n",
    "# Se saca el porcentaje de aciertos\n",
    "porBuenos = (correct/mT)*100\n",
    "# Y el de errores\n",
    "porMalos = 100.0 - porBuenos"
   ]
  },
  {
   "cell_type": "code",
   "execution_count": 167,
   "metadata": {},
   "outputs": [
    {
     "data": {
      "text/plain": [
       "10.0"
      ]
     },
     "execution_count": 167,
     "metadata": {},
     "output_type": "execute_result"
    }
   ],
   "source": []
  },
  {
   "cell_type": "code",
   "execution_count": 35,
   "metadata": {},
   "outputs": [
    {
     "data": {
      "text/plain": [
       "10.0"
      ]
     },
     "execution_count": 35,
     "metadata": {},
     "output_type": "execute_result"
    }
   ],
   "source": [
    "porBuenos"
   ]
  },
  {
   "cell_type": "code",
   "execution_count": 36,
   "metadata": {},
   "outputs": [
    {
     "data": {
      "text/plain": [
       "90.0"
      ]
     },
     "execution_count": 36,
     "metadata": {},
     "output_type": "execute_result"
    }
   ],
   "source": [
    "porMalos"
   ]
  },
  {
   "cell_type": "code",
   "execution_count": 29,
   "metadata": {},
   "outputs": [
    {
     "data": {
      "text/plain": [
       "(10, 126)"
      ]
     },
     "execution_count": 29,
     "metadata": {},
     "output_type": "execute_result"
    }
   ],
   "source": [
    "pruebaDelta = deltaDeclaration(theta_shapes)\n",
    "pruebaDelta[1].shape"
   ]
  },
  {
   "cell_type": "code",
   "execution_count": 30,
   "metadata": {},
   "outputs": [],
   "source": [
    "m, layers = len(X), len(theta_shapes)+1"
   ]
  },
  {
   "cell_type": "code",
   "execution_count": 31,
   "metadata": {},
   "outputs": [],
   "source": [
    "thetas = inflate_matrixes(flat_thetas,theta_shapes)"
   ]
  },
  {
   "cell_type": "code",
   "execution_count": 32,
   "metadata": {},
   "outputs": [
    {
     "data": {
      "text/plain": [
       "(125, 785)"
      ]
     },
     "execution_count": 32,
     "metadata": {},
     "output_type": "execute_result"
    }
   ],
   "source": [
    "pruebatran = thetas[0].T\n",
    "thetas[0].shape"
   ]
  },
  {
   "cell_type": "code",
   "execution_count": 17,
   "metadata": {},
   "outputs": [
    {
     "ename": "NameError",
     "evalue": "name 'thetas' is not defined",
     "output_type": "error",
     "traceback": [
      "\u001b[1;31m---------------------------------------------------------------------------\u001b[0m",
      "\u001b[1;31mNameError\u001b[0m                                 Traceback (most recent call last)",
      "\u001b[1;32m<ipython-input-17-66eff954e64a>\u001b[0m in \u001b[0;36m<module>\u001b[1;34m\u001b[0m\n\u001b[1;32m----> 1\u001b[1;33m \u001b[0ma\u001b[0m \u001b[1;33m=\u001b[0m \u001b[0mfeed_propagation\u001b[0m\u001b[1;33m(\u001b[0m\u001b[0mthetas\u001b[0m\u001b[1;33m,\u001b[0m \u001b[0mX\u001b[0m\u001b[1;33m)\u001b[0m\u001b[1;33m\u001b[0m\u001b[1;33m\u001b[0m\u001b[0m\n\u001b[0m",
      "\u001b[1;31mNameError\u001b[0m: name 'thetas' is not defined"
     ]
    }
   ],
   "source": [
    "a = feed_propagation(thetas, X)"
   ]
  },
  {
   "cell_type": "code",
   "execution_count": 35,
   "metadata": {},
   "outputs": [
    {
     "data": {
      "text/plain": [
       "array([1., 1., 1., 1., 1., 1., 1., 1., 1., 1.])"
      ]
     },
     "execution_count": 35,
     "metadata": {},
     "output_type": "execute_result"
    }
   ],
   "source": [
    "a[-1][0,:]"
   ]
  },
  {
   "cell_type": "code",
   "execution_count": 73,
   "metadata": {},
   "outputs": [
    {
     "data": {
      "text/plain": [
       "(60000, 10)"
      ]
     },
     "execution_count": 73,
     "metadata": {},
     "output_type": "execute_result"
    }
   ],
   "source": [
    "delta = back_propagation(a,layers,Y,thetas)\n",
    "delta[2].shape"
   ]
  }
 ],
 "metadata": {
  "kernelspec": {
   "display_name": "Python 3",
   "language": "python",
   "name": "python3"
  },
  "language_info": {
   "codemirror_mode": {
    "name": "ipython",
    "version": 3
   },
   "file_extension": ".py",
   "mimetype": "text/x-python",
   "name": "python",
   "nbconvert_exporter": "python",
   "pygments_lexer": "ipython3",
   "version": "3.8.2"
  }
 },
 "nbformat": 4,
 "nbformat_minor": 4
}
